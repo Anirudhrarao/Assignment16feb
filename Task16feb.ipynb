{
 "cells": [
  {
   "cell_type": "markdown",
   "metadata": {},
   "source": [
    "### Solution (1)\n",
    "#### Database: \n",
    "* A database is organized collection of structured data or informations, so that it can be easily acessed and managed.\n",
    "* A database is handle or controlled by DBMS(database management system).\n",
    "* The main purpose of the database is to operate a large amount of information by storing, retrieving, and managing data."
   ]
  },
  {
   "cell_type": "markdown",
   "metadata": {},
   "source": [
    "#### Difference between sql and nosql:\n",
    "##### SQL:\n",
    "* RDMS(Relational Database Management System).\n",
    "* Fixed and predefined schema.\n",
    "* Best for complex queries.\n",
    "* Ex:- Mysql, Oracle, PostgresSql\n",
    "##### NOSQL:\n",
    "* Non relational or distributed system\n",
    "* Have a dynamic schema.\n",
    "* Not so good for complex queries.\n",
    "* Ex:- MongoDB, Hbase, Cassandra"
   ]
  },
  {
   "cell_type": "markdown",
   "metadata": {},
   "source": [
    "### solution (2)\n",
    "#### What is DDL?\n",
    "* A data defination language (DDL) is computer langauge used to create and modify the structure of database object in the database.\n",
    "* DDL Queries are:\n",
    "    1. CREATE\n",
    "    2. DROP\n",
    "    3. ALTER\n",
    "    4. TRUNCATE"
   ]
  },
  {
   "cell_type": "code",
   "execution_count": 16,
   "metadata": {},
   "outputs": [
    {
     "data": {
      "text/plain": [
       "True"
      ]
     },
     "execution_count": 16,
     "metadata": {},
     "output_type": "execute_result"
    }
   ],
   "source": [
    "import mysql.connector\n",
    "mydb = mysql.connector.connect(\n",
    "    host = \"localhost\",\n",
    "    user = \"root\",\n",
    "    password = \"password\"\n",
    ")\n",
    "mycursor = mydb.cursor()\n",
    "mycursor.execute(\"CREATE DATABASE if not exists test\")\n",
    "mycursor.execute(\"CREATE TABLE if not exists test.test_table(id INT, name VARCHAR(50))\")\n",
    "# mycursor.execute(\"ALTER TABLE test.test_table ADD email VARCHAR(30)\")\n",
    "mycursor.execute(\"INSERT INTO test.test_table values(1,'Anirudhra','ani@gmail.com')\")\n",
    "mycursor.execute(\"TRUNCATE TABLE test.test_table\")\n",
    "mycursor.execute(\"DROP TABLE test.test_table\")\n",
    "mydb.commit()\n",
    "mycursor.close()"
   ]
  },
  {
   "cell_type": "markdown",
   "metadata": {},
   "source": [
    "### Solution (3)"
   ]
  },
  {
   "cell_type": "markdown",
   "metadata": {},
   "source": [
    "#### What is DML?\n",
    "* A Data Manipulation Language which is used to manipulate data itself.\n",
    "* DML Queries are:\n",
    "    1. INSERT\n",
    "    2. UPDATE\n",
    "    3. DELETE"
   ]
  },
  {
   "cell_type": "code",
   "execution_count": 31,
   "metadata": {},
   "outputs": [
    {
     "name": "stdout",
     "output_type": "stream",
     "text": [
      "(1, 'Anirudhra', 'ani@gmail.com')\n",
      "(2, 'yash', 'yash@gmail.com')\n",
      "(2, 'ankit', 'ankit@gmail.com')\n",
      "----Update and delete-----\n",
      "(1, 'Anirudhra', 'ani@gmail.com')\n",
      "(3, 'ankit', 'ankit@gmail.com')\n"
     ]
    }
   ],
   "source": [
    "import mysql.connector\n",
    "mydb = mysql.connector.connect(\n",
    "    host = \"localhost\",\n",
    "    user = \"root\",\n",
    "    password = \"password\"\n",
    ")\n",
    "mycursor = mydb.cursor()\n",
    "mycursor.execute(\"CREATE DATABASE if not exists test\")\n",
    "mycursor.execute(\"CREATE TABLE if not exists test.test_table(id INT, name VARCHAR(50),email VARCHAR(20))\")\n",
    "mycursor.execute(\"INSERT INTO test.test_table values(1,'Anirudhra','ani@gmail.com')\")\n",
    "mycursor.execute(\"INSERT INTO test.test_table values(2,'yash','yash@gmail.com')\")\n",
    "mycursor.execute(\"INSERT INTO test.test_table values(2,'ankit','ankit@gmail.com')\")\n",
    "mycursor.execute(\"SELECT * FROM test.test_table\")\n",
    "for i in mycursor.fetchall():\n",
    "    print(i)\n",
    "print(\"----Update and delete-----\")\n",
    "mycursor.execute(\"UPDATE test.test_table SET id = 3 WHERE name = 'ankit'\")\n",
    "mycursor.execute(\"DELETE FROM test.test_table WHERE id = 2\")\n",
    "mydb.commit()\n",
    "mycursor.execute(\"SELECT * FROM test.test_table\")\n",
    "for i in mycursor.fetchall():\n",
    "    print(i)"
   ]
  },
  {
   "cell_type": "markdown",
   "metadata": {},
   "source": [
    "### Solution (4)"
   ]
  },
  {
   "cell_type": "markdown",
   "metadata": {},
   "source": [
    "#### What is DQL?\n",
    "* A Data Query Language (DQL) used to fetch data from databases.\n",
    "#### DQL Queries:\n",
    "* SELECT"
   ]
  },
  {
   "cell_type": "code",
   "execution_count": 2,
   "metadata": {},
   "outputs": [
    {
     "name": "stdout",
     "output_type": "stream",
     "text": [
      "(1, 'Anirudhra', 'ani@gmail.com')\n",
      "(3, 'ankit', 'ankit@gmail.com')\n"
     ]
    },
    {
     "data": {
      "text/plain": [
       "True"
      ]
     },
     "execution_count": 2,
     "metadata": {},
     "output_type": "execute_result"
    }
   ],
   "source": [
    "import mysql.connector\n",
    "\n",
    "mydb = mysql.connector.connect(\n",
    "    host = \"localhost\",\n",
    "    user = \"root\",\n",
    "    password = \"password\"\n",
    ")\n",
    "\n",
    "mycursor = mydb.cursor()\n",
    "mycursor.execute(\"SELECT * FROM test.test_table\")\n",
    "for data in mycursor.fetchall():\n",
    "    print(data)\n",
    "mycursor.close()\n"
   ]
  },
  {
   "cell_type": "markdown",
   "metadata": {},
   "source": [
    "### Solution (5)"
   ]
  },
  {
   "cell_type": "markdown",
   "metadata": {},
   "source": [
    "#### Primary key:\n",
    "* A primary key uniquely identifies each record in a table.\n",
    "* primary keys must contains unique values.\n",
    "* A table can have only one primary key.\n",
    "* A primary keys consist of single or multiple column (fields)."
   ]
  },
  {
   "cell_type": "markdown",
   "metadata": {},
   "source": [
    "#### Foreign Key\n",
    "* A foreign key is a field or collection of fields that refers to primary key in another table.\n",
    "* Table with foreign key called as child table or with primary key called as parent table."
   ]
  },
  {
   "cell_type": "markdown",
   "metadata": {},
   "source": [
    "### Solution (6)\n",
    "#### Cursor():\n",
    "* A object used to make connections betweeen database and sql query act as middleware.\n",
    "#### Execute():\n",
    "* This method executes given database operations."
   ]
  },
  {
   "cell_type": "code",
   "execution_count": null,
   "metadata": {},
   "outputs": [],
   "source": [
    "import mysql.connector\n",
    "\n",
    "mydb = mysql.connector.connect(\n",
    "    host = \"Localhost\",\n",
    "    user = \"root\",\n",
    "    password = \"password\"\n",
    ")\n",
    "print(mydb)"
   ]
  },
  {
   "cell_type": "markdown",
   "metadata": {},
   "source": [
    "### Solution (7)\n",
    "1. FROM\n",
    "    * Table are join to get base data.\n",
    "2. WHERE\n",
    "    * The base data is filtered.\n",
    "3. GROUP BY\n",
    "    * The filtered base data is grouped.\n",
    "4. HAVING\n",
    "    * The grouped base data is filtered.\n",
    "5. SELECT\n",
    "    * The final data is returned.\n",
    "6. ORDER BY\n",
    "    * The final data is sorted.\n",
    "7. LIMIT\n",
    "    * The returned data is limited to row count."
   ]
  },
  {
   "cell_type": "code",
   "execution_count": null,
   "metadata": {},
   "outputs": [],
   "source": []
  }
 ],
 "metadata": {
  "kernelspec": {
   "display_name": "Python 3 (ipykernel)",
   "language": "python",
   "name": "python3"
  },
  "language_info": {
   "codemirror_mode": {
    "name": "ipython",
    "version": 3
   },
   "file_extension": ".py",
   "mimetype": "text/x-python",
   "name": "python",
   "nbconvert_exporter": "python",
   "pygments_lexer": "ipython3",
   "version": "3.11.1"
  },
  "vscode": {
   "interpreter": {
    "hash": "b91f41160b83ffc59c7e17fa6fd02d637d5dcf1d5e59aa2db87d82178661b954"
   }
  }
 },
 "nbformat": 4,
 "nbformat_minor": 2
}
